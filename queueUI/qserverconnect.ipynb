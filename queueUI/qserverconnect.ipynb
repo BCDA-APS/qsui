{
 "cells": [
  {
   "cell_type": "code",
   "execution_count": 3,
   "metadata": {},
   "outputs": [],
   "source": [
    "from bluesky_queueserver_api.http import REManagerAPI"
   ]
  },
  {
   "cell_type": "code",
   "execution_count": 4,
   "metadata": {},
   "outputs": [
    {
     "ename": "RequestTimeoutError",
     "evalue": "Request timeout: ZMQ communication error: ZeroMQ communication failed: timeout occurred",
     "output_type": "error",
     "traceback": [
      "\u001b[0;31m---------------------------------------------------------------------------\u001b[0m",
      "\u001b[0;31mCommTimeoutError\u001b[0m                          Traceback (most recent call last)",
      "File \u001b[0;32m/opt/anaconda3/envs/queueUI/lib/python3.12/site-packages/bluesky_queueserver/manager/comms.py:933\u001b[0m, in \u001b[0;36mZMQCommSendThreads.send_message\u001b[0;34m(self, method, params, timeout, cb, raise_exceptions)\u001b[0m\n\u001b[1;32m    932\u001b[0m     msg_out \u001b[38;5;241m=\u001b[39m \u001b[38;5;28mself\u001b[39m\u001b[38;5;241m.\u001b[39m_create_msg(method\u001b[38;5;241m=\u001b[39mmethod, params\u001b[38;5;241m=\u001b[39mparams)\n\u001b[0;32m--> 933\u001b[0m     msg_in \u001b[38;5;241m=\u001b[39m \u001b[38;5;28;43mself\u001b[39;49m\u001b[38;5;241;43m.\u001b[39;49m\u001b[43m_zmq_communicate\u001b[49m\u001b[43m(\u001b[49m\u001b[43mmsg_out\u001b[49m\u001b[43m,\u001b[49m\u001b[43m \u001b[49m\u001b[43mcb\u001b[49m\u001b[38;5;241;43m=\u001b[39;49m\u001b[43mcb\u001b[49m\u001b[43m,\u001b[49m\u001b[43m \u001b[49m\u001b[43mtimeout\u001b[49m\u001b[38;5;241;43m=\u001b[39;49m\u001b[43mtimeout\u001b[49m\u001b[43m)\u001b[49m\n\u001b[1;32m    934\u001b[0m \u001b[38;5;28;01mexcept\u001b[39;00m \u001b[38;5;167;01mException\u001b[39;00m \u001b[38;5;28;01mas\u001b[39;00m ex:\n",
      "File \u001b[0;32m/opt/anaconda3/envs/queueUI/lib/python3.12/site-packages/bluesky_queueserver/manager/comms.py:829\u001b[0m, in \u001b[0;36mZMQCommSendThreads._zmq_communicate\u001b[0;34m(self, msg_out, cb, timeout)\u001b[0m\n\u001b[1;32m    828\u001b[0m \u001b[38;5;28;01mif\u001b[39;00m msg_err:\n\u001b[0;32m--> 829\u001b[0m     \u001b[38;5;28;01mraise\u001b[39;00m CommTimeoutError(msg_err)\n\u001b[1;32m    831\u001b[0m \u001b[38;5;28;01mreturn\u001b[39;00m msg\n",
      "\u001b[0;31mCommTimeoutError\u001b[0m: ZeroMQ communication failed: timeout occurred",
      "\nDuring handling of the above exception, another exception occurred:\n",
      "\u001b[0;31mCommTimeoutError\u001b[0m                          Traceback (most recent call last)",
      "File \u001b[0;32m/opt/anaconda3/envs/queueUI/lib/python3.12/site-packages/bluesky_queueserver_api/comm_threads.py:49\u001b[0m, in \u001b[0;36mReManagerComm_ZMQ_Threads.send_request\u001b[0;34m(self, method, params)\u001b[0m\n\u001b[1;32m     48\u001b[0m \u001b[38;5;28;01mtry\u001b[39;00m:\n\u001b[0;32m---> 49\u001b[0m     response \u001b[38;5;241m=\u001b[39m \u001b[38;5;28;43mself\u001b[39;49m\u001b[38;5;241;43m.\u001b[39;49m\u001b[43m_client\u001b[49m\u001b[38;5;241;43m.\u001b[39;49m\u001b[43msend_message\u001b[49m\u001b[43m(\u001b[49m\u001b[43mmethod\u001b[49m\u001b[38;5;241;43m=\u001b[39;49m\u001b[43mmethod\u001b[49m\u001b[43m,\u001b[49m\u001b[43m \u001b[49m\u001b[43mparams\u001b[49m\u001b[38;5;241;43m=\u001b[39;49m\u001b[43mparams\u001b[49m\u001b[43m)\u001b[49m\n\u001b[1;32m     50\u001b[0m \u001b[38;5;28;01mexcept\u001b[39;00m \u001b[38;5;167;01mException\u001b[39;00m:\n",
      "File \u001b[0;32m/opt/anaconda3/envs/queueUI/lib/python3.12/site-packages/bluesky_queueserver/manager/comms.py:938\u001b[0m, in \u001b[0;36mZMQCommSendThreads.send_message\u001b[0;34m(self, method, params, timeout, cb, raise_exceptions)\u001b[0m\n\u001b[1;32m    937\u001b[0m \u001b[38;5;28;01mif\u001b[39;00m use_ex:\n\u001b[0;32m--> 938\u001b[0m     \u001b[38;5;28;01mraise\u001b[39;00m CommTimeoutError(errmsg)\n\u001b[1;32m    939\u001b[0m msg_in \u001b[38;5;241m=\u001b[39m {\u001b[38;5;124m\"\u001b[39m\u001b[38;5;124msuccess\u001b[39m\u001b[38;5;124m\"\u001b[39m: \u001b[38;5;28;01mFalse\u001b[39;00m, \u001b[38;5;124m\"\u001b[39m\u001b[38;5;124mmsg\u001b[39m\u001b[38;5;124m\"\u001b[39m: errmsg}\n",
      "\u001b[0;31mCommTimeoutError\u001b[0m: ZMQ communication error: ZeroMQ communication failed: timeout occurred",
      "\nThe above exception was the direct cause of the following exception:\n",
      "\u001b[0;31mRequestTimeoutError\u001b[0m                       Traceback (most recent call last)",
      "Cell \u001b[0;32mIn[4], line 8\u001b[0m\n\u001b[1;32m      5\u001b[0m RM \u001b[38;5;241m=\u001b[39m REManagerAPI()\n\u001b[1;32m      7\u001b[0m item \u001b[38;5;241m=\u001b[39m BPlan(\u001b[38;5;124m\"\u001b[39m\u001b[38;5;124mcount\u001b[39m\u001b[38;5;124m\"\u001b[39m, [\u001b[38;5;124m\"\u001b[39m\u001b[38;5;124mdet1\u001b[39m\u001b[38;5;124m\"\u001b[39m, \u001b[38;5;124m\"\u001b[39m\u001b[38;5;124mdet2\u001b[39m\u001b[38;5;124m\"\u001b[39m], num\u001b[38;5;241m=\u001b[39m\u001b[38;5;241m10\u001b[39m, delay\u001b[38;5;241m=\u001b[39m\u001b[38;5;241m1\u001b[39m)\n\u001b[0;32m----> 8\u001b[0m \u001b[43mRM\u001b[49m\u001b[38;5;241;43m.\u001b[39;49m\u001b[43mitem_add\u001b[49m\u001b[43m(\u001b[49m\u001b[43mitem\u001b[49m\u001b[43m)\u001b[49m\n\u001b[1;32m     10\u001b[0m RM\u001b[38;5;241m.\u001b[39menvironment_open()\n\u001b[1;32m     11\u001b[0m RM\u001b[38;5;241m.\u001b[39mwait_for_idle()\n",
      "File \u001b[0;32m/opt/anaconda3/envs/queueUI/lib/python3.12/site-packages/bluesky_queueserver_api/api_threads.py:336\u001b[0m, in \u001b[0;36mAPI_Threads_Mixin.item_add\u001b[0;34m(self, item, pos, before_uid, after_uid, user, user_group, lock_key)\u001b[0m\n\u001b[1;32m    326\u001b[0m request_params \u001b[38;5;241m=\u001b[39m \u001b[38;5;28mself\u001b[39m\u001b[38;5;241m.\u001b[39m_prepare_item_add(\n\u001b[1;32m    327\u001b[0m     item\u001b[38;5;241m=\u001b[39mitem,\n\u001b[1;32m    328\u001b[0m     pos\u001b[38;5;241m=\u001b[39mpos,\n\u001b[0;32m   (...)\u001b[0m\n\u001b[1;32m    333\u001b[0m     lock_key\u001b[38;5;241m=\u001b[39mlock_key,\n\u001b[1;32m    334\u001b[0m )\n\u001b[1;32m    335\u001b[0m \u001b[38;5;28mself\u001b[39m\u001b[38;5;241m.\u001b[39m_clear_status_timestamp()\n\u001b[0;32m--> 336\u001b[0m \u001b[38;5;28;01mreturn\u001b[39;00m \u001b[38;5;28;43mself\u001b[39;49m\u001b[38;5;241;43m.\u001b[39;49m\u001b[43msend_request\u001b[49m\u001b[43m(\u001b[49m\u001b[43mmethod\u001b[49m\u001b[38;5;241;43m=\u001b[39;49m\u001b[38;5;124;43m\"\u001b[39;49m\u001b[38;5;124;43mqueue_item_add\u001b[39;49m\u001b[38;5;124;43m\"\u001b[39;49m\u001b[43m,\u001b[49m\u001b[43m \u001b[49m\u001b[43mparams\u001b[49m\u001b[38;5;241;43m=\u001b[39;49m\u001b[43mrequest_params\u001b[49m\u001b[43m)\u001b[49m\n",
      "File \u001b[0;32m/opt/anaconda3/envs/queueUI/lib/python3.12/site-packages/bluesky_queueserver_api/comm_threads.py:51\u001b[0m, in \u001b[0;36mReManagerComm_ZMQ_Threads.send_request\u001b[0;34m(self, method, params)\u001b[0m\n\u001b[1;32m     49\u001b[0m     response \u001b[38;5;241m=\u001b[39m \u001b[38;5;28mself\u001b[39m\u001b[38;5;241m.\u001b[39m_client\u001b[38;5;241m.\u001b[39msend_message(method\u001b[38;5;241m=\u001b[39mmethod, params\u001b[38;5;241m=\u001b[39mparams)\n\u001b[1;32m     50\u001b[0m \u001b[38;5;28;01mexcept\u001b[39;00m \u001b[38;5;167;01mException\u001b[39;00m:\n\u001b[0;32m---> 51\u001b[0m     \u001b[38;5;28;43mself\u001b[39;49m\u001b[38;5;241;43m.\u001b[39;49m\u001b[43m_process_comm_exception\u001b[49m\u001b[43m(\u001b[49m\u001b[43mmethod\u001b[49m\u001b[38;5;241;43m=\u001b[39;49m\u001b[43mmethod\u001b[49m\u001b[43m,\u001b[49m\u001b[43m \u001b[49m\u001b[43mparams\u001b[49m\u001b[38;5;241;43m=\u001b[39;49m\u001b[43mparams\u001b[49m\u001b[43m)\u001b[49m\n\u001b[1;32m     52\u001b[0m \u001b[38;5;28mself\u001b[39m\u001b[38;5;241m.\u001b[39m_check_response(request\u001b[38;5;241m=\u001b[39m{\u001b[38;5;124m\"\u001b[39m\u001b[38;5;124mmethod\u001b[39m\u001b[38;5;124m\"\u001b[39m: method, \u001b[38;5;124m\"\u001b[39m\u001b[38;5;124mparams\u001b[39m\u001b[38;5;124m\"\u001b[39m: params}, response\u001b[38;5;241m=\u001b[39mresponse)\n\u001b[1;32m     54\u001b[0m \u001b[38;5;28;01mreturn\u001b[39;00m response\n",
      "File \u001b[0;32m/opt/anaconda3/envs/queueUI/lib/python3.12/site-packages/bluesky_queueserver_api/comm_base.py:250\u001b[0m, in \u001b[0;36mReManagerAPI_ZMQ_Base._process_comm_exception\u001b[0;34m(self, method, params)\u001b[0m\n\u001b[1;32m    248\u001b[0m     \u001b[38;5;28;01mraise\u001b[39;00m\n\u001b[1;32m    249\u001b[0m \u001b[38;5;28;01mexcept\u001b[39;00m CommTimeoutError \u001b[38;5;28;01mas\u001b[39;00m ex:\n\u001b[0;32m--> 250\u001b[0m     \u001b[38;5;28;01mraise\u001b[39;00m \u001b[38;5;28mself\u001b[39m\u001b[38;5;241m.\u001b[39mRequestTimeoutError(ex, {\u001b[38;5;124m\"\u001b[39m\u001b[38;5;124mmethod\u001b[39m\u001b[38;5;124m\"\u001b[39m: method, \u001b[38;5;124m\"\u001b[39m\u001b[38;5;124mparams\u001b[39m\u001b[38;5;124m\"\u001b[39m: params}) \u001b[38;5;28;01mfrom\u001b[39;00m \u001b[38;5;21;01mex\u001b[39;00m\n",
      "\u001b[0;31mRequestTimeoutError\u001b[0m: Request timeout: ZMQ communication error: ZeroMQ communication failed: timeout occurred"
     ]
    }
   ],
   "source": [
    "from bluesky_queueserver_api import BPlan\n",
    "from bluesky_queueserver_api.zmq import REManagerAPI\n",
    "# from bluesky_queueserver_api.http import REManagerAPI\n",
    "\n",
    "RM = REManagerAPI()\n",
    "\n",
    "item = BPlan(\"count\", [\"det1\", \"det2\"], num=10, delay=1)\n",
    "RM.item_add(item)\n",
    "\n",
    "RM.environment_open()\n",
    "RM.wait_for_idle()\n",
    "\n",
    "RM.queue_start()\n",
    "RM.wait_for_idle()\n",
    "\n",
    "status = RM.status()\n",
    "print(f\"status={status}\")\n",
    "\n",
    "RM.environment_close()\n",
    "RM.wait_for_idle()\n",
    "\n",
    "RM.close()"
   ]
  }
 ],
 "metadata": {
  "kernelspec": {
   "display_name": "gemviz",
   "language": "python",
   "name": "python3"
  },
  "language_info": {
   "codemirror_mode": {
    "name": "ipython",
    "version": 3
   },
   "file_extension": ".py",
   "mimetype": "text/x-python",
   "name": "python",
   "nbconvert_exporter": "python",
   "pygments_lexer": "ipython3",
   "version": "3.12.4"
  }
 },
 "nbformat": 4,
 "nbformat_minor": 2
}
